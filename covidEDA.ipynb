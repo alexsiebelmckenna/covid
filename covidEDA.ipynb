{
 "cells": [
  {
   "cell_type": "code",
   "execution_count": 1,
   "metadata": {},
   "outputs": [],
   "source": [
    "import pandas as pd\n",
    "import numpy as np\n",
    "import matplotlib as plt\n",
    "from datetime import date, timedelta"
   ]
  },
  {
   "cell_type": "code",
   "execution_count": 2,
   "metadata": {},
   "outputs": [],
   "source": [
    "raw = pd.read_csv('https://raw.githubusercontent.com/nytimes/covid-19-data/master/us-states.csv')"
   ]
  },
  {
   "cell_type": "code",
   "execution_count": 3,
   "metadata": {},
   "outputs": [],
   "source": [
    "date_str = str(date.today()-timedelta(days=1))"
   ]
  },
  {
   "cell_type": "code",
   "execution_count": 4,
   "metadata": {},
   "outputs": [],
   "source": [
    "raw['date'] = pd.to_datetime(raw['date'], yearfirst=True)"
   ]
  },
  {
   "cell_type": "code",
   "execution_count": 9,
   "metadata": {},
   "outputs": [
    {
     "data": {
      "text/plain": [
       "['Alabama', 'Alaska', 'Arizona', 'Arkansas', 'California']"
      ]
     },
     "execution_count": 9,
     "metadata": {},
     "output_type": "execute_result"
    }
   ],
   "source": [
    "def get_unique_states(df=raw, date=date_str):\n",
    "    states_list = df['state'][df['date']==date].unique().tolist()\n",
    "    return states_list\n",
    "\n",
    "states_list = get_unique_states()\n",
    "states_list[:5]"
   ]
  },
  {
   "cell_type": "code",
   "execution_count": 34,
   "metadata": {},
   "outputs": [],
   "source": [
    "raw.sort_values(by=['date'], ascending=False).sort_values(by='state')\n",
    "\n",
    "data = []\n",
    "\n",
    "for state in states_list:\n",
    "    \n",
    "    temp = raw[raw['state']==state].copy(deep=True)\n",
    "    temp[['diff_cases', 'diff_deaths']] = temp[['cases', 'deaths']].diff()\n",
    "    temp = temp.sort_values('date', ascending=False)\n",
    "    \n",
    "    data.append(temp\n",
    "               )"
   ]
  },
  {
   "cell_type": "code",
   "execution_count": 6,
   "metadata": {},
   "outputs": [],
   "source": [
    "#raw['cases_diff'] = raw.sort_values(['date', 'state']).groupby('date')['cases'].diff()"
   ]
  },
  {
   "cell_type": "code",
   "execution_count": 17,
   "metadata": {},
   "outputs": [],
   "source": [
    "def clean_data(df=raw, date=date_str):\n",
    "    \"\"\"\n",
    "    \n",
    "    Parameters:\n",
    "    df: Raw data\n",
    "    date (str): Yesterday's date\n",
    "    \n",
    "    Returns:\n",
    "    df_ts: Time series of first-differenced cases and deaths (i.e. new cases and deaths)\n",
    "    \"\"\"\n",
    "    # Get unique values of 'state' for date=date_str    \n",
    "    \n",
    "    \n",
    "    \n",
    "    return "
   ]
  },
  {
   "cell_type": "code",
   "execution_count": 13,
   "metadata": {},
   "outputs": [
    {
     "data": {
      "text/html": [
       "<div>\n",
       "<style scoped>\n",
       "    .dataframe tbody tr th:only-of-type {\n",
       "        vertical-align: middle;\n",
       "    }\n",
       "\n",
       "    .dataframe tbody tr th {\n",
       "        vertical-align: top;\n",
       "    }\n",
       "\n",
       "    .dataframe thead th {\n",
       "        text-align: right;\n",
       "    }\n",
       "</style>\n",
       "<table border=\"1\" class=\"dataframe\">\n",
       "  <thead>\n",
       "    <tr style=\"text-align: right;\">\n",
       "      <th></th>\n",
       "      <th>date</th>\n",
       "      <th>state</th>\n",
       "      <th>fips</th>\n",
       "      <th>cases</th>\n",
       "      <th>deaths</th>\n",
       "    </tr>\n",
       "  </thead>\n",
       "  <tbody>\n",
       "    <tr>\n",
       "      <th>14923</th>\n",
       "      <td>2020-11-29</td>\n",
       "      <td>California</td>\n",
       "      <td>6</td>\n",
       "      <td>1219496</td>\n",
       "      <td>19151</td>\n",
       "    </tr>\n",
       "    <tr>\n",
       "      <th>14868</th>\n",
       "      <td>2020-11-28</td>\n",
       "      <td>California</td>\n",
       "      <td>6</td>\n",
       "      <td>1206278</td>\n",
       "      <td>19132</td>\n",
       "    </tr>\n",
       "    <tr>\n",
       "      <th>14813</th>\n",
       "      <td>2020-11-27</td>\n",
       "      <td>California</td>\n",
       "      <td>6</td>\n",
       "      <td>1193071</td>\n",
       "      <td>19100</td>\n",
       "    </tr>\n",
       "    <tr>\n",
       "      <th>14758</th>\n",
       "      <td>2020-11-26</td>\n",
       "      <td>California</td>\n",
       "      <td>6</td>\n",
       "      <td>1176137</td>\n",
       "      <td>19025</td>\n",
       "    </tr>\n",
       "    <tr>\n",
       "      <th>14703</th>\n",
       "      <td>2020-11-25</td>\n",
       "      <td>California</td>\n",
       "      <td>6</td>\n",
       "      <td>1167149</td>\n",
       "      <td>18982</td>\n",
       "    </tr>\n",
       "    <tr>\n",
       "      <th>...</th>\n",
       "      <td>...</td>\n",
       "      <td>...</td>\n",
       "      <td>...</td>\n",
       "      <td>...</td>\n",
       "      <td>...</td>\n",
       "    </tr>\n",
       "    <tr>\n",
       "      <th>21</th>\n",
       "      <td>2020-01-29</td>\n",
       "      <td>California</td>\n",
       "      <td>6</td>\n",
       "      <td>2</td>\n",
       "      <td>0</td>\n",
       "    </tr>\n",
       "    <tr>\n",
       "      <th>17</th>\n",
       "      <td>2020-01-28</td>\n",
       "      <td>California</td>\n",
       "      <td>6</td>\n",
       "      <td>2</td>\n",
       "      <td>0</td>\n",
       "    </tr>\n",
       "    <tr>\n",
       "      <th>13</th>\n",
       "      <td>2020-01-27</td>\n",
       "      <td>California</td>\n",
       "      <td>6</td>\n",
       "      <td>2</td>\n",
       "      <td>0</td>\n",
       "    </tr>\n",
       "    <tr>\n",
       "      <th>9</th>\n",
       "      <td>2020-01-26</td>\n",
       "      <td>California</td>\n",
       "      <td>6</td>\n",
       "      <td>2</td>\n",
       "      <td>0</td>\n",
       "    </tr>\n",
       "    <tr>\n",
       "      <th>5</th>\n",
       "      <td>2020-01-25</td>\n",
       "      <td>California</td>\n",
       "      <td>6</td>\n",
       "      <td>1</td>\n",
       "      <td>0</td>\n",
       "    </tr>\n",
       "  </tbody>\n",
       "</table>\n",
       "<p>310 rows × 5 columns</p>\n",
       "</div>"
      ],
      "text/plain": [
       "            date       state  fips    cases  deaths\n",
       "14923 2020-11-29  California     6  1219496   19151\n",
       "14868 2020-11-28  California     6  1206278   19132\n",
       "14813 2020-11-27  California     6  1193071   19100\n",
       "14758 2020-11-26  California     6  1176137   19025\n",
       "14703 2020-11-25  California     6  1167149   18982\n",
       "...          ...         ...   ...      ...     ...\n",
       "21    2020-01-29  California     6        2       0\n",
       "17    2020-01-28  California     6        2       0\n",
       "13    2020-01-27  California     6        2       0\n",
       "9     2020-01-26  California     6        2       0\n",
       "5     2020-01-25  California     6        1       0\n",
       "\n",
       "[310 rows x 5 columns]"
      ]
     },
     "execution_count": 13,
     "metadata": {},
     "output_type": "execute_result"
    }
   ],
   "source": [
    "raw[raw['state']=='California']"
   ]
  }
 ],
 "metadata": {
  "kernelspec": {
   "display_name": "Python 3",
   "language": "python",
   "name": "python3"
  },
  "language_info": {
   "codemirror_mode": {
    "name": "ipython",
    "version": 3
   },
   "file_extension": ".py",
   "mimetype": "text/x-python",
   "name": "python",
   "nbconvert_exporter": "python",
   "pygments_lexer": "ipython3",
   "version": "3.8.3"
  }
 },
 "nbformat": 4,
 "nbformat_minor": 4
}
